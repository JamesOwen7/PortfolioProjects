{
 "cells": [
  {
   "cell_type": "code",
   "execution_count": 1,
   "id": "06f88819",
   "metadata": {},
   "outputs": [],
   "source": [
    "# import libraries\n",
    "\n",
    "from bs4 import BeautifulSoup\n",
    "import requests\n",
    "import smtplib\n",
    "import time\n",
    "import datetime\n"
   ]
  },
  {
   "cell_type": "code",
   "execution_count": 11,
   "id": "721f147e",
   "metadata": {},
   "outputs": [],
   "source": [
    "# connect to website\n",
    "URL = 'https://www.amazon.co.uk/Got-Data-MIS-Business-Analyst/dp/B09F319PK2/ref=sr_1_5?crid=1B5WLC7LJSYEO&keywords=got+data+t-shirt&qid=1684054816&sprefix=got+data+t-shirt%2Caps%2C75&sr=8-5'\n",
    "\n",
    "#headers retrieved from: https://httpbin.org/get\n",
    "headers = {\"User-Agent\": \"Mozilla/5.0 (Windows NT 10.0; Win64; x64) AppleWebKit/537.36 (KHTML, like Gecko) Chrome/113.0.0.0 Safari/537.36\"}\n",
    "\n",
    "page = requests.get(URL, headers=headers)\n",
    "\n",
    "soup1 = BeautifulSoup(page.content, 'html.parser')\n",
    "\n",
    "soup2 = BeautifulSoup(soup1.prettify(), 'html.parser')\n",
    "\n",
    "title = soup2.find(id = 'productTitle').get_text()\n",
    "\n",
    "price = soup2.find(id = \"corePriceDisplay_desktop_feature_div\").get_text()\n",
    "\n",
    "\n",
    "#print(price)"
   ]
  },
  {
   "cell_type": "code",
   "execution_count": 19,
   "id": "ff9458e8",
   "metadata": {},
   "outputs": [],
   "source": [
    "price = price.strip()[1:6]\n",
    "title = title.strip()"
   ]
  },
  {
   "cell_type": "code",
   "execution_count": 21,
   "id": "071a9a03",
   "metadata": {},
   "outputs": [],
   "source": [
    "import datetime\n",
    "\n",
    "today = datetime.date.today()"
   ]
  },
  {
   "cell_type": "code",
   "execution_count": 23,
   "id": "6b290086",
   "metadata": {},
   "outputs": [],
   "source": [
    "import csv\n",
    "\n",
    "header = ['Title', 'Price', 'Date Recorded']\n",
    "data = [title, price, today]\n",
    "\n",
    "with open('AmazonWebScraperDataset.csv', 'w', newline='', encoding='UTF8') as f:\n",
    "    writer = csv.writer(f)\n",
    "    writer.writerow(header)\n",
    "    writer.writerow(data)"
   ]
  },
  {
   "cell_type": "code",
   "execution_count": 26,
   "id": "1eb78d47",
   "metadata": {},
   "outputs": [
    {
     "name": "stdout",
     "output_type": "stream",
     "text": [
      "                                               Title  Price Date Recorded\n",
      "0  Funny Got Data MIS Data Systems Business Analy...  17.49    2023-05-14\n",
      "1  Funny Got Data MIS Data Systems Business Analy...  17.49    2023-05-14\n"
     ]
    }
   ],
   "source": [
    "import pandas as pd\n",
    "\n",
    "df = pd.read_csv(r'C:\\Users\\jameowen\\Python Projects Alex Freberg\\AmazonWebScraperDataset.csv')\n",
    "\n",
    "print(df)"
   ]
  },
  {
   "cell_type": "code",
   "execution_count": 25,
   "id": "b0b54a41",
   "metadata": {},
   "outputs": [],
   "source": [
    "# appending data to csv\n",
    "\n",
    "with open('AmazonWebScraperDataset.csv', 'a+', newline='', encoding='UTF8') as f:\n",
    "    writer = csv.writer(f)\n",
    "    writer.writerow(data)"
   ]
  },
  {
   "cell_type": "code",
   "execution_count": 28,
   "id": "a83be00a",
   "metadata": {},
   "outputs": [],
   "source": [
    "\n",
    "def check_price():\n",
    "    URL = 'https://www.amazon.co.uk/Got-Data-MIS-Business-Analyst/dp/B09F319PK2/ref=sr_1_5?crid=1B5WLC7LJSYEO&keywords=got+data+t-shirt&qid=1684054816&sprefix=got+data+t-shirt%2Caps%2C75&sr=8-5'\n",
    "\n",
    "    #headers retrieved from: https://httpbin.org/get\n",
    "    headers = {\"User-Agent\": \"Mozilla/5.0 (Windows NT 10.0; Win64; x64) AppleWebKit/537.36 (KHTML, like Gecko) Chrome/113.0.0.0 Safari/537.36\"}\n",
    "\n",
    "    page = requests.get(URL, headers=headers)\n",
    "\n",
    "    soup1 = BeautifulSoup(page.content, 'html.parser')\n",
    "\n",
    "    soup2 = BeautifulSoup(soup1.prettify(), 'html.parser')\n",
    "\n",
    "    title = soup2.find(id = 'productTitle').get_text()\n",
    "\n",
    "    price = soup2.find(id = \"corePriceDisplay_desktop_feature_div\").get_text()\n",
    "    \n",
    "    price = price.strip()[1:6]\n",
    "    title = title.strip()\n",
    "    today = datetime.date.today()\n",
    "    \n",
    "    header = ['Title', 'Price', 'Date Recorded']\n",
    "    data = [title, price, today]\n",
    "    \n",
    "    with open('AmazonWebScraperDataset.csv', 'a+', newline='', encoding='UTF8') as f:\n",
    "        writer = csv.writer(f)\n",
    "        writer.writerow(data)\n",
    "        \n",
    "        if(price < 14):\n",
    "            send_mail()"
   ]
  },
  {
   "cell_type": "code",
   "execution_count": 30,
   "id": "b0e3357e",
   "metadata": {},
   "outputs": [
    {
     "ename": "KeyboardInterrupt",
     "evalue": "",
     "output_type": "error",
     "traceback": [
      "\u001b[1;31m---------------------------------------------------------------------------\u001b[0m",
      "\u001b[1;31mKeyboardInterrupt\u001b[0m                         Traceback (most recent call last)",
      "\u001b[1;32m~\\AppData\\Local\\Temp\\ipykernel_22844\\4212351095.py\u001b[0m in \u001b[0;36m<module>\u001b[1;34m\u001b[0m\n\u001b[0;32m      1\u001b[0m \u001b[1;32mwhile\u001b[0m\u001b[1;33m(\u001b[0m\u001b[1;32mTrue\u001b[0m\u001b[1;33m)\u001b[0m\u001b[1;33m:\u001b[0m\u001b[1;33m\u001b[0m\u001b[1;33m\u001b[0m\u001b[0m\n\u001b[0;32m      2\u001b[0m     \u001b[0mcheck_price\u001b[0m\u001b[1;33m(\u001b[0m\u001b[1;33m)\u001b[0m\u001b[1;33m\u001b[0m\u001b[1;33m\u001b[0m\u001b[0m\n\u001b[1;32m----> 3\u001b[1;33m     \u001b[0mtime\u001b[0m\u001b[1;33m.\u001b[0m\u001b[0msleep\u001b[0m\u001b[1;33m(\u001b[0m\u001b[1;36m5\u001b[0m\u001b[1;33m)\u001b[0m\u001b[1;33m\u001b[0m\u001b[1;33m\u001b[0m\u001b[0m\n\u001b[0m",
      "\u001b[1;31mKeyboardInterrupt\u001b[0m: "
     ]
    }
   ],
   "source": [
    "while(True):\n",
    "    check_price()\n",
    "    time.sleep(86400)"
   ]
  },
  {
   "cell_type": "code",
   "execution_count": 31,
   "id": "64749dfa",
   "metadata": {},
   "outputs": [
    {
     "name": "stdout",
     "output_type": "stream",
     "text": [
      "                                               Title  Price Date Recorded\n",
      "0  Funny Got Data MIS Data Systems Business Analy...  17.49    2023-05-14\n",
      "1  Funny Got Data MIS Data Systems Business Analy...  17.49    2023-05-14\n",
      "2  Funny Got Data MIS Data Systems Business Analy...  17.49    2023-05-14\n",
      "3  Funny Got Data MIS Data Systems Business Analy...  17.49    2023-05-14\n",
      "4  Funny Got Data MIS Data Systems Business Analy...  17.49    2023-05-14\n",
      "5  Funny Got Data MIS Data Systems Business Analy...  17.49    2023-05-14\n",
      "6  Funny Got Data MIS Data Systems Business Analy...  17.49    2023-05-14\n",
      "7  Funny Got Data MIS Data Systems Business Analy...  17.49    2023-05-14\n"
     ]
    }
   ],
   "source": [
    "import pandas as pd\n",
    "\n",
    "df = pd.read_csv(r'C:\\Users\\jameowen\\Python Projects Alex Freberg\\AmazonWebScraperDataset.csv')\n",
    "\n",
    "print(df)"
   ]
  },
  {
   "cell_type": "code",
   "execution_count": 34,
   "id": "f23d19e0",
   "metadata": {},
   "outputs": [],
   "source": [
    "def send_mail():\n",
    "    print('This function would send an email')"
   ]
  },
  {
   "cell_type": "code",
   "execution_count": null,
   "id": "d12105de",
   "metadata": {},
   "outputs": [],
   "source": []
  }
 ],
 "metadata": {
  "kernelspec": {
   "display_name": "Python 3 (ipykernel)",
   "language": "python",
   "name": "python3"
  },
  "language_info": {
   "codemirror_mode": {
    "name": "ipython",
    "version": 3
   },
   "file_extension": ".py",
   "mimetype": "text/x-python",
   "name": "python",
   "nbconvert_exporter": "python",
   "pygments_lexer": "ipython3",
   "version": "3.9.13"
  }
 },
 "nbformat": 4,
 "nbformat_minor": 5
}
